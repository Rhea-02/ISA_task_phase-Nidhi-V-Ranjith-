{
  "nbformat": 4,
  "nbformat_minor": 0,
  "metadata": {
    "colab": {
      "name": "neural networks-mnist dataset.ipynb",
      "provenance": [],
      "collapsed_sections": [],
      "authorship_tag": "ABX9TyMXeXJ5rUThK1uk9Sr15upK",
      "include_colab_link": true
    },
    "kernelspec": {
      "name": "python3",
      "display_name": "Python 3"
    },
    "language_info": {
      "name": "python"
    }
  },
  "cells": [
    {
      "cell_type": "markdown",
      "metadata": {
        "id": "view-in-github",
        "colab_type": "text"
      },
      "source": [
        "<a href=\"https://colab.research.google.com/github/Rhea-02/ISA_task_phase-Nidhi-V-Ranjith-/blob/main/neural_networks_mnist_dataset.ipynb\" target=\"_parent\"><img src=\"https://colab.research.google.com/assets/colab-badge.svg\" alt=\"Open In Colab\"/></a>"
      ]
    },
    {
      "cell_type": "markdown",
      "metadata": {
        "id": "etWwkJR6Y0FD"
      },
      "source": [
        "#Imports\n"
      ]
    },
    {
      "cell_type": "code",
      "metadata": {
        "id": "5qWzf2d1Y5am"
      },
      "source": [
        "import numpy as np\n",
        "import matplotlib.pyplot as plt\n",
        "import keras\n",
        "from keras.models import Sequential\n",
        "from keras.layers import Dense, Dropout\n",
        "from sklearn.metrics import confusion_matrix\n",
        "import seaborn as sns\n",
        "from keras.models import Sequential\n",
        "import pandas as pd\n",
        "from sklearn.model_selection import train_test_split\n",
        "\n",
        "np.random.seed(0)\n",
        "\n",
        "\n"
      ],
      "execution_count": 33,
      "outputs": []
    },
    {
      "cell_type": "markdown",
      "metadata": {
        "id": "ZnN-xP4XSpGB"
      },
      "source": [
        "#Data\n"
      ]
    },
    {
      "cell_type": "code",
      "metadata": {
        "id": "G5UxuVCbYz0T"
      },
      "source": [
        "from keras.datasets import mnist\n",
        "(x_train,y_train),(x_test,y_test)=mnist.load_data()\n"
      ],
      "execution_count": 34,
      "outputs": []
    },
    {
      "cell_type": "code",
      "metadata": {
        "colab": {
          "base_uri": "https://localhost:8080/"
        },
        "id": "IgY7luwjWdK8",
        "outputId": "56b6ce5c-9e56-45c8-b380-ab77c45cf611"
      },
      "source": [
        "print(x_train.shape,y_train.shape)\n",
        "print(x_test.shape,y_test.shape)"
      ],
      "execution_count": 35,
      "outputs": [
        {
          "output_type": "stream",
          "name": "stdout",
          "text": [
            "(60000, 28, 28) (60000,)\n",
            "(10000, 28, 28) (10000,)\n"
          ]
        }
      ]
    },
    {
      "cell_type": "markdown",
      "metadata": {
        "id": "Warzxsq3Tpl5"
      },
      "source": [
        "#visualise example"
      ]
    },
    {
      "cell_type": "code",
      "metadata": {
        "colab": {
          "base_uri": "https://localhost:8080/",
          "height": 160
        },
        "id": "YtkgEQq9TwiS",
        "outputId": "dec8d46c-d30f-4289-eb1a-a6cf7520ed34"
      },
      "source": [
        "num_classes=10\n",
        "f, ax=plt.subplots(1,num_classes,figsize=(20,20))\n",
        "\n",
        "for i in range (0,num_classes):\n",
        "  sample=x_train[y_train==i][0]\n",
        "  ax[i].imshow(sample, cmap='gray')\n",
        "  ax[i].set_title(\"Label: {}\".format(i),fontsize=16)\n",
        "\n"
      ],
      "execution_count": 36,
      "outputs": [
        {
          "output_type": "display_data",
          "data": {
            "image/png": "[encoded data removed]",
            "text/plain": [
              "<Figure size 1440x1440 with 10 Axes>"
            ]
          },
          "metadata": {
            "needs_background": "light"
          }
        }
      ]
    },
    {
      "cell_type": "code",
      "metadata": {
        "colab": {
          "base_uri": "https://localhost:8080/"
        },
        "id": "dJrrAJjWcJSl",
        "outputId": "13df1eda-3eb5-429a-dd23-35f151fce5f4"
      },
      "source": [
        "for i in range(10):\n",
        "  print(y_train[i])"
      ],
      "execution_count": 37,
      "outputs": [
        {
          "output_type": "stream",
          "name": "stdout",
          "text": [
            "5\n",
            "0\n",
            "4\n",
            "1\n",
            "9\n",
            "2\n",
            "1\n",
            "3\n",
            "1\n",
            "4\n"
          ]
        }
      ]
    },
    {
      "cell_type": "code",
      "metadata": {
        "id": "jUrvzWpPcgM_"
      },
      "source": [
        "y_train = keras.utils.np_utils.to_categorical(y_train, num_classes)\n",
        "y_test = keras.utils.np_utils.to_categorical(y_test, num_classes)"
      ],
      "execution_count": 38,
      "outputs": []
    },
    {
      "cell_type": "code",
      "metadata": {
        "colab": {
          "base_uri": "https://localhost:8080/"
        },
        "id": "ed3BsdHRdKww",
        "outputId": "732e55f9-6529-4589-b963-d7785534f6a5"
      },
      "source": [
        "for i in range (10):\n",
        "  print(y_train[i])"
      ],
      "execution_count": 39,
      "outputs": [
        {
          "output_type": "stream",
          "name": "stdout",
          "text": [
            "[0. 0. 0. 0. 0. 1. 0. 0. 0. 0.]\n",
            "[1. 0. 0. 0. 0. 0. 0. 0. 0. 0.]\n",
            "[0. 0. 0. 0. 1. 0. 0. 0. 0. 0.]\n",
            "[0. 1. 0. 0. 0. 0. 0. 0. 0. 0.]\n",
            "[0. 0. 0. 0. 0. 0. 0. 0. 0. 1.]\n",
            "[0. 0. 1. 0. 0. 0. 0. 0. 0. 0.]\n",
            "[0. 1. 0. 0. 0. 0. 0. 0. 0. 0.]\n",
            "[0. 0. 0. 1. 0. 0. 0. 0. 0. 0.]\n",
            "[0. 1. 0. 0. 0. 0. 0. 0. 0. 0.]\n",
            "[0. 0. 0. 0. 1. 0. 0. 0. 0. 0.]\n"
          ]
        }
      ]
    },
    {
      "cell_type": "markdown",
      "metadata": {
        "id": "0QFAmqmClJO9"
      },
      "source": [
        "#Preparing Data\n"
      ]
    },
    {
      "cell_type": "code",
      "metadata": {
        "id": "GS0TQ7bNlMiv"
      },
      "source": [
        "#normalize data\n",
        "x_train=x_train/255.0\n",
        "x_test=x_test/255.0"
      ],
      "execution_count": 40,
      "outputs": []
    },
    {
      "cell_type": "code",
      "metadata": {
        "id": "CILgQh96loHn",
        "colab": {
          "base_uri": "https://localhost:8080/"
        },
        "outputId": "7add5640-232b-4a8c-ff68-7d40fb8fb5a2"
      },
      "source": [
        "#reshape data\n",
        "x_train=x_train.reshape(x_train.shape[0], -1)\n",
        "x_test=x_test.reshape(x_test.shape[0], -1 )\n",
        "print(x_train.shape)\n"
      ],
      "execution_count": 41,
      "outputs": [
        {
          "output_type": "stream",
          "name": "stdout",
          "text": [
            "(60000, 784)\n"
          ]
        }
      ]
    },
    {
      "cell_type": "code",
      "metadata": {
        "id": "tgAJfhGVmu0k",
        "colab": {
          "base_uri": "https://localhost:8080/"
        },
        "outputId": "73742e9b-7cc7-42f0-ade4-fb679c00f8a4"
      },
      "source": [
        "#creating model for neural network\n",
        "\n",
        "model = Sequential()\n",
        "\n",
        "model.add(Dense(units=128,input_shape=(784,), activation='relu'))\n",
        "model.add(Dense(units=128, activation='relu'))\n",
        "model.add(Dropout(0.25))\n",
        "model.add(Dense(units=10,activation='softmax'))\n",
        "#compiling the model\n",
        "model.compile(loss='categorical_crossentropy',optimizer='adam', metrics=['accuracy'])\n",
        "model.summary()\n",
        "\n"
      ],
      "execution_count": 42,
      "outputs": [
        {
          "output_type": "stream",
          "name": "stdout",
          "text": [
            "Model: \"sequential_1\"\n",
            "_________________________________________________________________\n",
            "Layer (type)                 Output Shape              Param #   \n",
            "=================================================================\n",
            "dense_3 (Dense)              (None, 128)               100480    \n",
            "_________________________________________________________________\n",
            "dense_4 (Dense)              (None, 128)               16512     \n",
            "_________________________________________________________________\n",
            "dropout_1 (Dropout)          (None, 128)               0         \n",
            "_________________________________________________________________\n",
            "dense_5 (Dense)              (None, 10)                1290      \n",
            "=================================================================\n",
            "Total params: 118,282\n",
            "Trainable params: 118,282\n",
            "Non-trainable params: 0\n",
            "_________________________________________________________________\n"
          ]
        }
      ]
    },
    {
      "cell_type": "code",
      "metadata": {
        "id": "TbbMwzPdrhUl",
        "colab": {
          "base_uri": "https://localhost:8080/"
        },
        "outputId": "10db9368-1f90-43d5-9d08-b26477694e66"
      },
      "source": [
        "batch_size =512\n",
        "epochs=10\n",
        "model.fit(x=x_train, y=y_train, batch_size=batch_size,epochs=epochs)\n"
      ],
      "execution_count": 43,
      "outputs": [
        {
          "output_type": "stream",
          "name": "stdout",
          "text": [
            "Epoch 1/10\n",
            "118/118 [==============================] - 2s 9ms/step - loss: 0.5780 - accuracy: 0.8314\n",
            "Epoch 2/10\n",
            "118/118 [==============================] - 1s 9ms/step - loss: 0.2267 - accuracy: 0.9336\n",
            "Epoch 3/10\n",
            "118/118 [==============================] - 1s 9ms/step - loss: 0.1642 - accuracy: 0.9525\n",
            "Epoch 4/10\n",
            "118/118 [==============================] - 1s 9ms/step - loss: 0.1285 - accuracy: 0.9623\n",
            "Epoch 5/10\n",
            "118/118 [==============================] - 1s 9ms/step - loss: 0.1052 - accuracy: 0.9688\n",
            "Epoch 6/10\n",
            "118/118 [==============================] - 1s 9ms/step - loss: 0.0890 - accuracy: 0.9739\n",
            "Epoch 7/10\n",
            "118/118 [==============================] - 1s 9ms/step - loss: 0.0754 - accuracy: 0.9777\n",
            "Epoch 8/10\n",
            "118/118 [==============================] - 1s 9ms/step - loss: 0.0659 - accuracy: 0.9803\n",
            "Epoch 9/10\n",
            "118/118 [==============================] - 1s 9ms/step - loss: 0.0575 - accuracy: 0.9829\n",
            "Epoch 10/10\n",
            "118/118 [==============================] - 1s 9ms/step - loss: 0.0526 - accuracy: 0.9841\n"
          ]
        },
        {
          "output_type": "execute_result",
          "data": {
            "text/plain": [
              "<keras.callbacks.History at 0x7f6b9bea5f90>"
            ]
          },
          "metadata": {},
          "execution_count": 43
        }
      ]
    },
    {
      "cell_type": "markdown",
      "metadata": {
        "id": "d6GLJb0n1MMT"
      },
      "source": [
        "#Evaluate"
      ]
    },
    {
      "cell_type": "code",
      "metadata": {
        "id": "ZYx2fqYt1POE",
        "colab": {
          "base_uri": "https://localhost:8080/"
        },
        "outputId": "be99c7d9-26ce-425e-f4b8-67925f5fe079"
      },
      "source": [
        "\n",
        "\n",
        "score=model.evaluate(x_test,y_test)\n",
        "print()\n",
        "print(\"Test loss\", score[1])"
      ],
      "execution_count": 47,
      "outputs": [
        {
          "output_type": "stream",
          "name": "stdout",
          "text": [
            "313/313 [==============================] - 0s 1ms/step - loss: 0.0759 - accuracy: 0.9758\n",
            "\n",
            "Test loss 0.9757999777793884\n"
          ]
        }
      ]
    },
    {
      "cell_type": "code",
      "metadata": {
        "id": "yPj39bA-jaFC",
        "colab": {
          "base_uri": "https://localhost:8080/"
        },
        "outputId": "7d0c5e2e-eac2-42f0-d33b-2b92c43cc702"
      },
      "source": [
        "score=model.evaluate(x_test,y_test)\n",
        "print()\n",
        "print('Test accuracy:' , score[1])"
      ],
      "execution_count": 46,
      "outputs": [
        {
          "output_type": "stream",
          "name": "stdout",
          "text": [
            "313/313 [==============================] - 1s 1ms/step - loss: 0.0759 - accuracy: 0.9758\n",
            "\n",
            "Test accuracy: 0.9757999777793884\n"
          ]
        }
      ]
    },
    {
      "cell_type": "code",
      "metadata": {
        "colab": {
          "base_uri": "https://localhost:8080/"
        },
        "id": "qbvJa3_pc_cd",
        "outputId": "dbad00e9-97ec-4bac-a3b5-32dd254f3052"
      },
      "source": [
        "y_pred=model.predict(x_test)\n",
        "y_pred_classes=np.argmax(y_pred, axis=1)\n",
        "print(y_pred)\n",
        "\n",
        "print(y_pred_classes)"
      ],
      "execution_count": 49,
      "outputs": [
        {
          "output_type": "stream",
          "name": "stdout",
          "text": [
            "[[5.6147296e-06 2.8100180e-06 2.3649121e-04 ... 9.9928147e-01\n",
            "  2.2995157e-05 9.6436197e-06]\n",
            " [1.9338982e-09 4.8058359e-03 9.9512547e-01 ... 1.5469171e-08\n",
            "  3.2057026e-06 5.4387460e-11]\n",
            " [9.5658731e-07 9.9761862e-01 2.7111772e-04 ... 1.2313758e-03\n",
            "  4.3791544e-04 3.9198053e-06]\n",
            " ...\n",
            " [1.6491620e-09 3.0953082e-08 1.8914385e-08 ... 9.1925352e-07\n",
            "  4.6077139e-06 8.4987269e-06]\n",
            " [2.7838933e-08 4.4283478e-08 1.1749081e-10 ... 3.2646597e-09\n",
            "  2.5153826e-05 2.7739894e-10]\n",
            " [1.8395186e-09 1.1232045e-12 5.3577276e-10 ... 2.3594098e-12\n",
            "  3.8536421e-10 5.7938632e-12]]\n",
            "[7 2 1 ... 4 5 6]\n"
          ]
        }
      ]
    },
    {
      "cell_type": "code",
      "metadata": {
        "colab": {
          "base_uri": "https://localhost:8080/",
          "height": 300
        },
        "id": "42NhaoGqdh6k",
        "outputId": "7b17ad6a-820f-40b6-fc55-efd868b220d8"
      },
      "source": [
        "#one example\n",
        "random_idx=np.random.choice(len(x_test))\n",
        "x_sample=x_test[random_idx]\n",
        "y_true=np.argmax(y_test, axis=1)\n",
        "y_sample_true=y_true[random_idx]\n",
        "y_sample_pred_class=y_pred_classes[random_idx]\n",
        "\n",
        "plt.title(\"Predicted:  {} ,True: {}\".format(y_sample_pred_class,y_sample_true), fontsize=16)\n",
        "plt.imshow(x_sample.reshape(28,28),cmap='gray')"
      ],
      "execution_count": 52,
      "outputs": [
        {
          "output_type": "execute_result",
          "data": {
            "text/plain": [
              "<matplotlib.image.AxesImage at 0x7f6b9bce1e90>"
            ]
          },
          "metadata": {},
          "execution_count": 52
        },
        {
          "output_type": "display_data",
          "data": {
            "image/png": "[encoded data removed]",
            "text/plain": [
              "<Figure size 432x288 with 1 Axes>"
            ]
          },
          "metadata": {
            "needs_background": "light"
          }
        }
      ]
    },
    {
      "cell_type": "markdown",
      "metadata": {
        "id": "vpMP_eq0fXY5"
      },
      "source": [
        "Confusion Matrix\n"
      ]
    },
    {
      "cell_type": "code",
      "metadata": {
        "colab": {
          "base_uri": "https://localhost:8080/",
          "height": 621
        },
        "id": "BCYYK3aEe19X",
        "outputId": "2ea8ff27-1f2e-40e0-cf91-610627da6b44"
      },
      "source": [
        "#confusion matrix-to test accuracy for every class\n",
        "\n",
        "confusion_mtx=confusion_matrix(y_true, y_pred_classes)\n",
        "#Plotting\n",
        "fig,ax=plt.subplots(figsize=(15,10))\n",
        "ax=sns.heatmap(confusion_mtx,annot=True, fmt='d', ax=ax ,cmap=\"Blues\")\n",
        "ax.set_xlabel('predicted label')\n",
        "ax.set_ylabel('True label')\n",
        "ax.set_title('Confusion Matrix');"
      ],
      "execution_count": 53,
      "outputs": [
        {
          "output_type": "display_data",
          "data": {
            "image/png": "[encoded data removed]",
            "text/plain": [
              "<Figure size 1080x720 with 2 Axes>"
            ]
          },
          "metadata": {
            "needs_background": "light"
          }
        }
      ]
    },
    {
      "cell_type": "code",
      "metadata": {
        "id": "Y9zsmZvQfaT0"
      },
      "source": [
        ""
      ],
      "execution_count": null,
      "outputs": []
    },
    {
      "cell_type": "code",
      "metadata": {
        "id": "WB9KjVpDfTeF"
      },
      "source": [
        ""
      ],
      "execution_count": null,
      "outputs": []
    },
    {
      "cell_type": "markdown",
      "metadata": {
        "id": "yM1nIQw6YykJ"
      },
      "source": [
        ""
      ]
    },
    {
      "cell_type": "markdown",
      "metadata": {
        "id": "SGMBUeG8Toks"
      },
      "source": [
        ""
      ]
    },
    {
      "cell_type": "markdown",
      "metadata": {
        "id": "1TeNzg4BYxDl"
      },
      "source": [
        ""
      ]
    },
    {
      "cell_type": "markdown",
      "metadata": {
        "id": "M01JrgGVYwAR"
      },
      "source": [
        ""
      ]
    },
    {
      "cell_type": "markdown",
      "metadata": {
        "id": "6beNAsXDYvcp"
      },
      "source": [
        ""
      ]
    },
    {
      "cell_type": "markdown",
      "metadata": {
        "id": "j4_5NOrwYmIz"
      },
      "source": [
        ""
      ]
    },
    {
      "cell_type": "markdown",
      "metadata": {
        "id": "PlYwOxC8Yqzq"
      },
      "source": [
        ""
      ]
    },
    {
      "cell_type": "markdown",
      "metadata": {
        "id": "65LjlD0lYf3h"
      },
      "source": [
        ""
      ]
    },
    {
      "cell_type": "markdown",
      "metadata": {
        "id": "G_L-yHKYYbqB"
      },
      "source": [
        ""
      ]
    },
    {
      "cell_type": "markdown",
      "metadata": {
        "id": "AdvrDc7aYRcQ"
      },
      "source": [
        ""
      ]
    },
    {
      "cell_type": "markdown",
      "metadata": {
        "id": "l95iXKtnYNUn"
      },
      "source": [
        ""
      ]
    },
    {
      "cell_type": "markdown",
      "metadata": {
        "id": "TTWDc2mmYJGp"
      },
      "source": [
        ""
      ]
    },
    {
      "cell_type": "markdown",
      "metadata": {
        "id": "BjycyX9XYIK4"
      },
      "source": [
        ""
      ]
    }
  ]
}